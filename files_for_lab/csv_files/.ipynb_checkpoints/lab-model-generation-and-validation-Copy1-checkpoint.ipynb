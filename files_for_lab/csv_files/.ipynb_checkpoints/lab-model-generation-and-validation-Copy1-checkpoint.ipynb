{
 "cells": [
  {
   "cell_type": "code",
   "execution_count": 1,
   "id": "f46999d8",
   "metadata": {},
   "outputs": [],
   "source": [
    "# lab-model-generation-and-validation\n"
   ]
  },
  {
   "cell_type": "code",
   "execution_count": 2,
   "id": "56839bd4",
   "metadata": {},
   "outputs": [],
   "source": [
    "import pandas as pd\n",
    "import numpy as np\n",
    "import math\n",
    "from scipy import stats\n",
    "from sklearn.feature_selection import RFE\n",
    "from sklearn.linear_model import LinearRegression"
   ]
  },
  {
   "cell_type": "code",
   "execution_count": 3,
   "id": "fbb09f41",
   "metadata": {
    "scrolled": true
   },
   "outputs": [
    {
     "data": {
      "text/html": [
       "<div>\n",
       "<style scoped>\n",
       "    .dataframe tbody tr th:only-of-type {\n",
       "        vertical-align: middle;\n",
       "    }\n",
       "\n",
       "    .dataframe tbody tr th {\n",
       "        vertical-align: top;\n",
       "    }\n",
       "\n",
       "    .dataframe thead th {\n",
       "        text-align: right;\n",
       "    }\n",
       "</style>\n",
       "<table border=\"1\" class=\"dataframe\">\n",
       "  <thead>\n",
       "    <tr style=\"text-align: right;\">\n",
       "      <th></th>\n",
       "      <th>Customer</th>\n",
       "      <th>State</th>\n",
       "      <th>Customer Lifetime Value</th>\n",
       "      <th>Response</th>\n",
       "      <th>Coverage</th>\n",
       "      <th>Education</th>\n",
       "      <th>Effective To Date</th>\n",
       "      <th>EmploymentStatus</th>\n",
       "      <th>Gender</th>\n",
       "      <th>Income</th>\n",
       "      <th>...</th>\n",
       "      <th>Months Since Policy Inception</th>\n",
       "      <th>Number of Open Complaints</th>\n",
       "      <th>Number of Policies</th>\n",
       "      <th>Policy Type</th>\n",
       "      <th>Policy</th>\n",
       "      <th>Renew Offer Type</th>\n",
       "      <th>Sales Channel</th>\n",
       "      <th>Total Claim Amount</th>\n",
       "      <th>Vehicle Class</th>\n",
       "      <th>Vehicle Size</th>\n",
       "    </tr>\n",
       "  </thead>\n",
       "  <tbody>\n",
       "    <tr>\n",
       "      <th>0</th>\n",
       "      <td>BU79786</td>\n",
       "      <td>Washington</td>\n",
       "      <td>2763.519279</td>\n",
       "      <td>No</td>\n",
       "      <td>Basic</td>\n",
       "      <td>Bachelor</td>\n",
       "      <td>2/24/11</td>\n",
       "      <td>Employed</td>\n",
       "      <td>F</td>\n",
       "      <td>56274</td>\n",
       "      <td>...</td>\n",
       "      <td>5</td>\n",
       "      <td>0</td>\n",
       "      <td>1</td>\n",
       "      <td>Corporate Auto</td>\n",
       "      <td>Corporate L3</td>\n",
       "      <td>Offer1</td>\n",
       "      <td>Agent</td>\n",
       "      <td>384.811147</td>\n",
       "      <td>Two-Door Car</td>\n",
       "      <td>Medsize</td>\n",
       "    </tr>\n",
       "    <tr>\n",
       "      <th>1</th>\n",
       "      <td>QZ44356</td>\n",
       "      <td>Arizona</td>\n",
       "      <td>6979.535903</td>\n",
       "      <td>No</td>\n",
       "      <td>Extended</td>\n",
       "      <td>Bachelor</td>\n",
       "      <td>1/31/11</td>\n",
       "      <td>Unemployed</td>\n",
       "      <td>F</td>\n",
       "      <td>0</td>\n",
       "      <td>...</td>\n",
       "      <td>42</td>\n",
       "      <td>0</td>\n",
       "      <td>8</td>\n",
       "      <td>Personal Auto</td>\n",
       "      <td>Personal L3</td>\n",
       "      <td>Offer3</td>\n",
       "      <td>Agent</td>\n",
       "      <td>1131.464935</td>\n",
       "      <td>Four-Door Car</td>\n",
       "      <td>Medsize</td>\n",
       "    </tr>\n",
       "    <tr>\n",
       "      <th>2</th>\n",
       "      <td>AI49188</td>\n",
       "      <td>Nevada</td>\n",
       "      <td>12887.431650</td>\n",
       "      <td>No</td>\n",
       "      <td>Premium</td>\n",
       "      <td>Bachelor</td>\n",
       "      <td>2/19/11</td>\n",
       "      <td>Employed</td>\n",
       "      <td>F</td>\n",
       "      <td>48767</td>\n",
       "      <td>...</td>\n",
       "      <td>38</td>\n",
       "      <td>0</td>\n",
       "      <td>2</td>\n",
       "      <td>Personal Auto</td>\n",
       "      <td>Personal L3</td>\n",
       "      <td>Offer1</td>\n",
       "      <td>Agent</td>\n",
       "      <td>566.472247</td>\n",
       "      <td>Two-Door Car</td>\n",
       "      <td>Medsize</td>\n",
       "    </tr>\n",
       "    <tr>\n",
       "      <th>3</th>\n",
       "      <td>WW63253</td>\n",
       "      <td>California</td>\n",
       "      <td>7645.861827</td>\n",
       "      <td>No</td>\n",
       "      <td>Basic</td>\n",
       "      <td>Bachelor</td>\n",
       "      <td>1/20/11</td>\n",
       "      <td>Unemployed</td>\n",
       "      <td>M</td>\n",
       "      <td>0</td>\n",
       "      <td>...</td>\n",
       "      <td>65</td>\n",
       "      <td>0</td>\n",
       "      <td>7</td>\n",
       "      <td>Corporate Auto</td>\n",
       "      <td>Corporate L2</td>\n",
       "      <td>Offer1</td>\n",
       "      <td>Call Center</td>\n",
       "      <td>529.881344</td>\n",
       "      <td>SUV</td>\n",
       "      <td>Medsize</td>\n",
       "    </tr>\n",
       "    <tr>\n",
       "      <th>4</th>\n",
       "      <td>HB64268</td>\n",
       "      <td>Washington</td>\n",
       "      <td>2813.692575</td>\n",
       "      <td>No</td>\n",
       "      <td>Basic</td>\n",
       "      <td>Bachelor</td>\n",
       "      <td>2/3/11</td>\n",
       "      <td>Employed</td>\n",
       "      <td>M</td>\n",
       "      <td>43836</td>\n",
       "      <td>...</td>\n",
       "      <td>44</td>\n",
       "      <td>0</td>\n",
       "      <td>1</td>\n",
       "      <td>Personal Auto</td>\n",
       "      <td>Personal L1</td>\n",
       "      <td>Offer1</td>\n",
       "      <td>Agent</td>\n",
       "      <td>138.130879</td>\n",
       "      <td>Four-Door Car</td>\n",
       "      <td>Medsize</td>\n",
       "    </tr>\n",
       "  </tbody>\n",
       "</table>\n",
       "<p>5 rows × 24 columns</p>\n",
       "</div>"
      ],
      "text/plain": [
       "  Customer       State  Customer Lifetime Value Response  Coverage Education  \\\n",
       "0  BU79786  Washington              2763.519279       No     Basic  Bachelor   \n",
       "1  QZ44356     Arizona              6979.535903       No  Extended  Bachelor   \n",
       "2  AI49188      Nevada             12887.431650       No   Premium  Bachelor   \n",
       "3  WW63253  California              7645.861827       No     Basic  Bachelor   \n",
       "4  HB64268  Washington              2813.692575       No     Basic  Bachelor   \n",
       "\n",
       "  Effective To Date EmploymentStatus Gender  Income  ...  \\\n",
       "0           2/24/11         Employed      F   56274  ...   \n",
       "1           1/31/11       Unemployed      F       0  ...   \n",
       "2           2/19/11         Employed      F   48767  ...   \n",
       "3           1/20/11       Unemployed      M       0  ...   \n",
       "4            2/3/11         Employed      M   43836  ...   \n",
       "\n",
       "  Months Since Policy Inception Number of Open Complaints  Number of Policies  \\\n",
       "0                             5                         0                   1   \n",
       "1                            42                         0                   8   \n",
       "2                            38                         0                   2   \n",
       "3                            65                         0                   7   \n",
       "4                            44                         0                   1   \n",
       "\n",
       "      Policy Type        Policy  Renew Offer Type  Sales Channel  \\\n",
       "0  Corporate Auto  Corporate L3            Offer1          Agent   \n",
       "1   Personal Auto   Personal L3            Offer3          Agent   \n",
       "2   Personal Auto   Personal L3            Offer1          Agent   \n",
       "3  Corporate Auto  Corporate L2            Offer1    Call Center   \n",
       "4   Personal Auto   Personal L1            Offer1          Agent   \n",
       "\n",
       "  Total Claim Amount  Vehicle Class Vehicle Size  \n",
       "0         384.811147   Two-Door Car      Medsize  \n",
       "1        1131.464935  Four-Door Car      Medsize  \n",
       "2         566.472247   Two-Door Car      Medsize  \n",
       "3         529.881344            SUV      Medsize  \n",
       "4         138.130879  Four-Door Car      Medsize  \n",
       "\n",
       "[5 rows x 24 columns]"
      ]
     },
     "execution_count": 3,
     "metadata": {},
     "output_type": "execute_result"
    }
   ],
   "source": [
    "data = pd.read_csv(\"marketing_customer_analysis.csv\")\n",
    "data.head()"
   ]
  },
  {
   "cell_type": "code",
   "execution_count": 4,
   "id": "3c4c7635",
   "metadata": {
    "scrolled": true
   },
   "outputs": [
    {
     "name": "stderr",
     "output_type": "stream",
     "text": [
      "/var/folders/6c/5stclpld7w5frqs_r1bxtwbw0000gn/T/ipykernel_1757/1805541575.py:3: DeprecationWarning: `np.object` is a deprecated alias for the builtin `object`. To silence this warning, use `object` by itself. Doing this will not modify any behavior and is safe. \n",
      "Deprecated in NumPy 1.20; for more details and guidance: https://numpy.org/devdocs/release/1.20.0-notes.html#deprecations\n",
      "  categoricals = data.select_dtypes(include=np.object)\n"
     ]
    }
   ],
   "source": [
    "numerical = data.select_dtypes(include=np.number)\n",
    "\n",
    "categoricals = data.select_dtypes(include=np.object)"
   ]
  },
  {
   "cell_type": "code",
   "execution_count": 5,
   "id": "34649129",
   "metadata": {},
   "outputs": [],
   "source": [
    "correlation_matrix = numerical.corr().abs()\n",
    "upper_triangle = np.triu(np.ones(correlation_matrix.shape), k=1).astype(bool)\n",
    "high_correlation = correlation_matrix.where(upper_triangle)\n",
    "high_correlation_pairs = high_correlation.stack().reset_index()\n",
    "high_correlation_pairs.columns = ['Feature 1', 'Feature 2', 'Correlation']\n",
    "\n",
    "high_correlation_pairs = high_correlation_pairs[high_correlation_pairs['Correlation'] > 0.9]\n",
    "\n",
    "if not high_correlation_pairs.empty:\n",
    "    least_correlated = high_correlation_pairs[\n",
    "        high_correlation_pairs['Feature 1'] != 'total_claim_amount'\n",
    "    ].sort_values(by='Correlation', ascending=False).iloc[0]['Feature 1']\n",
    "\n",
    "    numerical.drop(least_correlated, axis=1, inplace=True)"
   ]
  },
  {
   "cell_type": "code",
   "execution_count": 6,
   "id": "3e9a0f40",
   "metadata": {},
   "outputs": [],
   "source": [
    "X = data.drop('Total Claim Amount', axis=1)\n",
    "y = data['Total Claim Amount']\n"
   ]
  },
  {
   "cell_type": "code",
   "execution_count": 7,
   "id": "19aad591",
   "metadata": {},
   "outputs": [],
   "source": [
    "from sklearn.model_selection import train_test_split\n",
    "\n",
    "X_train, X_test, y_train, y_test = train_test_split(X, y, test_size=0.2, random_state=42)\n"
   ]
  },
  {
   "cell_type": "code",
   "execution_count": 8,
   "id": "1027b042",
   "metadata": {},
   "outputs": [],
   "source": [
    "X_train_df = pd.DataFrame(X_train, columns=X.columns)\n",
    "X_test_df = pd.DataFrame(X_test, columns=X.columns)"
   ]
  },
  {
   "cell_type": "code",
   "execution_count": 9,
   "id": "ca416d69",
   "metadata": {},
   "outputs": [],
   "source": [
    "numerical_cols = X_train.select_dtypes(include=[np.number]).columns\n",
    "categorical_cols = X_train.select_dtypes(include=[\"object\"]).columns\n",
    "\n",
    "X_train_numerical = X_train_df[numerical_cols]\n",
    "X_train_categorical = X_train_df[categorical_cols]"
   ]
  },
  {
   "cell_type": "code",
   "execution_count": 10,
   "id": "bd20c50a",
   "metadata": {},
   "outputs": [],
   "source": [
    "from sklearn.preprocessing import MinMaxScaler\n",
    "import pickle\n",
    "import os\n",
    "\n",
    "scaler = MinMaxScaler()\n",
    "X_train_numerical_scaled = scaler.fit_transform(X_train_numerical)"
   ]
  },
  {
   "cell_type": "code",
   "execution_count": 11,
   "id": "e7a9edc2",
   "metadata": {},
   "outputs": [],
   "source": [
    "path = \"transformers/\"\n",
    "filename = \"numerical_transformer.pkl\"\n",
    "with open(path + filename, \"wb\") as file:\n",
    "    pickle.dump(filename, file)"
   ]
  },
  {
   "cell_type": "code",
   "execution_count": 12,
   "id": "5ad86ee0",
   "metadata": {},
   "outputs": [],
   "source": [
    "X_train_numerical_scaled_df = pd.DataFrame(X_train_numerical_scaled, columns=numerical_cols)"
   ]
  },
  {
   "cell_type": "code",
   "execution_count": 13,
   "id": "8ce18893",
   "metadata": {},
   "outputs": [],
   "source": [
    "from sklearn.preprocessing import OneHotEncoder\n",
    "\n",
    "encoder = OneHotEncoder(handle_unknown=\"ignore\")\n",
    "X_train_categorical_encoded = encoder.fit_transform(X_train_categorical)\n",
    "#categorical_transformer = OneHotEncoder()\n",
    "#X_train_categorical_encoded = categorical_transformer.fit_transform(X_train_categorical)"
   ]
  },
  {
   "cell_type": "code",
   "execution_count": 14,
   "id": "a1812a61",
   "metadata": {},
   "outputs": [],
   "source": [
    "path = \"encoders/\"\n",
    "filename = \"categorical_transformer.pkl\"\n",
    "with open(path + filename, \"wb\") as file:\n",
    "    pickle.dump(filename, file)"
   ]
  },
  {
   "cell_type": "code",
   "execution_count": 15,
   "id": "576614bc",
   "metadata": {},
   "outputs": [],
   "source": [
    "categorical_transformer = OneHotEncoder()\n",
    "X_train_categorical_encoded = categorical_transformer.fit_transform(X_train_categorical)\n"
   ]
  },
  {
   "cell_type": "code",
   "execution_count": 16,
   "id": "696626fe",
   "metadata": {},
   "outputs": [],
   "source": [
    "categorical_cols_list = categorical_cols.tolist()\n",
    "\n",
    "encoded_columns = []\n",
    "for feature in categorical_cols_list:\n",
    "    categories = categorical_transformer.categories_[categorical_cols_list.index(feature)]\n",
    "    encoded_columns.extend([f\"{feature}_{category}\" for category in categories])\n",
    "\n",
    "X_train_categorical_encoded_df = pd.DataFrame(X_train_categorical_encoded.toarray(), columns=encoded_columns)"
   ]
  },
  {
   "cell_type": "code",
   "execution_count": 17,
   "id": "392935d5",
   "metadata": {},
   "outputs": [],
   "source": [
    "from sklearn.linear_model import LinearRegression\n",
    "from sklearn.metrics import r2_score, mean_squared_error, mean_absolute_error\n",
    "\n",
    "final_scaler = MinMaxScaler()\n",
    "X_train_final_scaled = final_scaler.fit_transform(X_train_numerical_scaled_df)\n",
    "\n",
    "X_train_transformed = np.concatenate((X_train_final_scaled, X_train_categorical_encoded_df), axis=1)\n",
    "\n",
    "model = LinearRegression()\n",
    "model.fit(X_train_transformed, y_train)\n",
    "\n",
    "y_pred_train = model.predict(X_train_transformed)\n"
   ]
  },
  {
   "cell_type": "code",
   "execution_count": 18,
   "id": "42cb10b6",
   "metadata": {},
   "outputs": [],
   "source": [
    "MAE_train = mean_absolute_error(y_train, y_pred_train)\n",
    "MSE_train = mean_squared_error(y_train, y_pred_train)\n",
    "RMSE_train = mean_squared_error(y_train, y_pred_train, squared=False)\n",
    "R2_train = r2_score(y_train, y_pred_train)"
   ]
  },
  {
   "cell_type": "code",
   "execution_count": 19,
   "id": "0362afb5",
   "metadata": {},
   "outputs": [
    {
     "name": "stdout",
     "output_type": "stream",
     "text": [
      "Train Set Metrics:\n",
      "MAE: 3.900955663218672e-12\n",
      "MSE: 8.760995413725546e-23\n",
      "RMSE: 9.360018917569315e-12\n",
      "R2: 1.0\n"
     ]
    }
   ],
   "source": [
    "print(\"Train Set Metrics:\")\n",
    "print(\"MAE:\", MAE_train)\n",
    "print(\"MSE:\", MSE_train)\n",
    "print(\"RMSE:\", RMSE_train)\n",
    "print(\"R2:\", R2_train)"
   ]
  }
 ],
 "metadata": {
  "kernelspec": {
   "display_name": "Python 3 (ipykernel)",
   "language": "python",
   "name": "python3"
  },
  "language_info": {
   "codemirror_mode": {
    "name": "ipython",
    "version": 3
   },
   "file_extension": ".py",
   "mimetype": "text/x-python",
   "name": "python",
   "nbconvert_exporter": "python",
   "pygments_lexer": "ipython3",
   "version": "3.10.9"
  }
 },
 "nbformat": 4,
 "nbformat_minor": 5
}
