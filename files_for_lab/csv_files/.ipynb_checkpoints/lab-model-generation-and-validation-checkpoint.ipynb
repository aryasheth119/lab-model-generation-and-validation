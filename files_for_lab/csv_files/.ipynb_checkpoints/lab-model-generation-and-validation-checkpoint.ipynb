{
 "cells": [
  {
   "cell_type": "code",
   "execution_count": 1,
   "id": "6ca4301e",
   "metadata": {},
   "outputs": [],
   "source": [
    "# lab-model-generation-and-validation\n"
   ]
  },
  {
   "cell_type": "code",
   "execution_count": 5,
   "id": "debfcf9d",
   "metadata": {},
   "outputs": [],
   "source": [
    "import pandas as pd\n",
    "import numpy as np\n",
    "from scipy import stats"
   ]
  },
  {
   "cell_type": "code",
   "execution_count": 6,
   "id": "49c45c90",
   "metadata": {},
   "outputs": [],
   "source": [
    "data = pd.read_csv(\"marketing_customer_analysis.csv\")"
   ]
  },
  {
   "cell_type": "code",
   "execution_count": 25,
   "id": "a68698a1",
   "metadata": {},
   "outputs": [],
   "source": [
    "# Identify columns with string values\n",
    "string_cols = data.select_dtypes(include=['object']).columns\n",
    "\n",
    "# Drop columns with string values from the dataset\n",
    "data_numeric = data.drop(string_cols, axis=1)\n",
    "\n",
    "# Apply z-score calculation on the numeric dataset\n",
    "data_numeric = data_numeric[(np.abs(stats.zscore(data_numeric)) < 3).all(axis=1)]"
   ]
  },
  {
   "cell_type": "code",
   "execution_count": 26,
   "id": "a877d84a",
   "metadata": {},
   "outputs": [
    {
     "name": "stdout",
     "output_type": "stream",
     "text": [
      "Index(['Customer', 'State', 'Customer Lifetime Value', 'Response', 'Coverage',\n",
      "       'Education', 'Effective To Date', 'EmploymentStatus', 'Gender',\n",
      "       'Income', 'Location Code', 'Marital Status', 'Monthly Premium Auto',\n",
      "       'Months Since Last Claim', 'Months Since Policy Inception',\n",
      "       'Number of Open Complaints', 'Number of Policies', 'Policy Type',\n",
      "       'Policy', 'Renew Offer Type', 'Sales Channel', 'Total Claim Amount',\n",
      "       'Vehicle Class', 'Vehicle Size'],\n",
      "      dtype='object')\n"
     ]
    }
   ],
   "source": [
    "# Print the column names\n",
    "print(data.columns)\n",
    "\n"
   ]
  },
  {
   "cell_type": "code",
   "execution_count": 27,
   "id": "d134b3aa",
   "metadata": {},
   "outputs": [],
   "source": [
    "X = data.drop(\"Total Claim Amount\", axis=1)  \n",
    "y = data[\"Total Claim Amount\"]"
   ]
  },
  {
   "cell_type": "code",
   "execution_count": 28,
   "id": "bd62ff3d",
   "metadata": {},
   "outputs": [],
   "source": [
    "from sklearn.model_selection import train_test_split\n",
    "\n",
    "X_train, X_test, y_train, y_test = train_test_split(X, y, test_size=0.2, random_state=42)\n"
   ]
  },
  {
   "cell_type": "code",
   "execution_count": 29,
   "id": "30555fef",
   "metadata": {},
   "outputs": [],
   "source": [
    "X_train_df = pd.DataFrame(X_train, columns=X.columns)\n",
    "X_test_df = pd.DataFrame(X_test, columns=X.columns)\n"
   ]
  },
  {
   "cell_type": "code",
   "execution_count": 30,
   "id": "46bfd4a8",
   "metadata": {},
   "outputs": [],
   "source": [
    "numerical_cols = X_train.select_dtypes(include=[np.number]).columns\n",
    "categorical_cols = X_train.select_dtypes(include=[\"object\"]).columns\n",
    "\n",
    "X_train_numerical = X_train_df[numerical_cols]\n",
    "X_train_categorical = X_train_df[categorical_cols]\n"
   ]
  },
  {
   "cell_type": "code",
   "execution_count": 38,
   "id": "300f0d56",
   "metadata": {},
   "outputs": [
    {
     "name": "stdout",
     "output_type": "stream",
     "text": [
      "The new directory is created!\n"
     ]
    }
   ],
   "source": [
    "from sklearn.preprocessing import MinMaxScaler\n",
    "import pickle\n",
    "import os\n",
    "\n",
    "scaler = MinMaxScaler()\n",
    "X_train_numerical_scaled = scaler.fit_transform(X_train_numerical)\n",
    "\n",
    "path = \"transformers/\"\n",
    "isExist = os.path.exists(path)\n",
    "\n",
    "if not isExist:\n",
    "    os.makedirs(path)\n",
    "    print(\"The new directory is created!\")\n",
    "\n",
    "filename = \"filename.pkl\"  # Use a descriptive name for your scaler/transformer but keep the \".pkl\" file extension\n",
    "with open(path + filename, \"wb\") as file:\n",
    "    pickle.dump(scaler, file)"
   ]
  },
  {
   "cell_type": "code",
   "execution_count": 39,
   "id": "ae4f0529",
   "metadata": {},
   "outputs": [],
   "source": [
    "from sklearn.preprocessing import OneHotEncoder\n",
    "\n",
    "encoder = OneHotEncoder(handle_unknown=\"ignore\")\n",
    "X_train_categorical_encoded = encoder.fit_transform(X_train_categorical)\n",
    "\n",
    "path = \"encoders/\"\n",
    "os.makedirs(path, exist_ok=True)\n",
    "filename = \"categorical_encoder.pkl\"\n",
    "with open(path + filename, \"wb\") as file:\n",
    "    pickle.dump(encoder, file)\n"
   ]
  },
  {
   "cell_type": "code",
   "execution_count": 40,
   "id": "edcf0afe",
   "metadata": {},
   "outputs": [],
   "source": [
    "X_train_transformed = pd.concat([pd.DataFrame(X_train_numerical_scaled, columns=numerical_cols),\n",
    "                                pd.DataFrame(X_train_categorical_encoded.toarray(), columns=encoder.get_feature_names_out())],\n",
    "                                axis=1)\n"
   ]
  },
  {
   "cell_type": "code",
   "execution_count": 42,
   "id": "9d7ee295",
   "metadata": {},
   "outputs": [],
   "source": [
    "final_scaler = MinMaxScaler()\n",
    "X_train_final_scaled = final_scaler.fit_transform(X_train_transformed)\n",
    "\n",
    "\n",
    "path = \"scalers/\"\n",
    "os.makedirs(path, exist_ok=True)\n",
    "filename = \"final_scaler.pkl\"\n",
    "with open(os.path.join(path, filename), \"wb\") as file:\n",
    "    pickle.dump(final_scaler, file)"
   ]
  },
  {
   "cell_type": "code",
   "execution_count": 57,
   "id": "abcb23d8",
   "metadata": {},
   "outputs": [],
   "source": [
    "import pandas as pd\n",
    "from sklearn.metrics import mean_absolute_error, mean_squared_error, r2_score\n",
    "\n",
    "def error_metrics_report(y_real_train: list, y_real_test: list, y_pred_train: list, y_pred_test: list) -> pd.DataFrame:\n",
    "    '''\n",
    "        Calculates various error metrics for regression models and returns a Pandas DataFrame.\n",
    "\n",
    "    y_real_train (list): The actual values for the training set.\n",
    "    y_real_test (list): The actual values for the test set.\n",
    "    y_pred_train (list): The predicted values for the training set.\n",
    "    y_pred_test (list): The predicted values for the test set.\n",
    "\n",
    "Returns:\n",
    "    pd.DataFrame: DataFrame containing the error metrics for the training and test sets.\n",
    "                  The columns are \"Metric\", \"Train\", and \"Test\".\n",
    "\n",
    "    '''\n",
    "\n",
    "    MAE_train = mean_absolute_error(y_real_train, y_pred_train)\n",
    "    MAE_test = mean_absolute_error(y_real_test, y_pred_test)\n",
    "\n",
    "    # Mean squared error\n",
    "    MSE_train = mean_squared_error(y_real_train, y_pred_train)\n",
    "    MSE_test = mean_squared_error(y_real_test, y_pred_test)\n",
    "\n",
    "    # Root mean squared error\n",
    "    RMSE_train = mean_squared_error(y_real_train, y_pred_train, squared=False)\n",
    "    RMSE_test = mean_squared_error(y_real_test, y_pred_test, squared=False)\n",
    "\n",
    "\n",
    "    # R2\n",
    "    R2_train = r2_score(y_real_train, y_pred_train)\n",
    "    R2_test = r2_score(y_real_test, y_pred_test)\n",
    "    \n",
    "    \n",
    "    results = {\"Metric\": [\"MAE\", \"MSE\", \"RMSE\", \"R2\"],\n",
    "    \"Train\": [MAE_train, MSE_train, RMSE_train, R2_train],\n",
    "    \"Test\": [MAE_test, MSE_test, RMSE_test, R2_test]}\n",
    "\n",
    "    results_df = pd.DataFrame(results).round(2)\n",
    "\n",
    "    return results_df"
   ]
  },
  {
   "cell_type": "code",
   "execution_count": 58,
   "id": "69fb960f",
   "metadata": {
    "scrolled": true
   },
   "outputs": [
    {
     "ename": "NameError",
     "evalue": "name 'results_df' is not defined",
     "output_type": "error",
     "traceback": [
      "\u001b[0;31m---------------------------------------------------------------------------\u001b[0m",
      "\u001b[0;31mNameError\u001b[0m                                 Traceback (most recent call last)",
      "Cell \u001b[0;32mIn[58], line 1\u001b[0m\n\u001b[0;32m----> 1\u001b[0m error_metrics_report(\u001b[38;5;28mlist\u001b[39m(\u001b[43mresults_df\u001b[49m[results_df[\u001b[38;5;124m\"\u001b[39m\u001b[38;5;124mSet\u001b[39m\u001b[38;5;124m\"\u001b[39m]\u001b[38;5;241m==\u001b[39m\u001b[38;5;124m\"\u001b[39m\u001b[38;5;124mTrain\u001b[39m\u001b[38;5;124m\"\u001b[39m][\u001b[38;5;124m\"\u001b[39m\u001b[38;5;124mReal\u001b[39m\u001b[38;5;124m\"\u001b[39m]),\n\u001b[1;32m      2\u001b[0m                      \u001b[38;5;28mlist\u001b[39m(results_df[results_df[\u001b[38;5;124m\"\u001b[39m\u001b[38;5;124mSet\u001b[39m\u001b[38;5;124m\"\u001b[39m]\u001b[38;5;241m==\u001b[39m\u001b[38;5;124m\"\u001b[39m\u001b[38;5;124mTest\u001b[39m\u001b[38;5;124m\"\u001b[39m][\u001b[38;5;124m\"\u001b[39m\u001b[38;5;124mReal\u001b[39m\u001b[38;5;124m\"\u001b[39m]),\n\u001b[1;32m      3\u001b[0m                      \u001b[38;5;28mlist\u001b[39m(results_df[results_df[\u001b[38;5;124m\"\u001b[39m\u001b[38;5;124mSet\u001b[39m\u001b[38;5;124m\"\u001b[39m]\u001b[38;5;241m==\u001b[39m\u001b[38;5;124m\"\u001b[39m\u001b[38;5;124mTrain\u001b[39m\u001b[38;5;124m\"\u001b[39m][\u001b[38;5;124m\"\u001b[39m\u001b[38;5;124mPredicted\u001b[39m\u001b[38;5;124m\"\u001b[39m]),\n\u001b[1;32m      4\u001b[0m                      \u001b[38;5;28mlist\u001b[39m(results_df[results_df[\u001b[38;5;124m\"\u001b[39m\u001b[38;5;124mSet\u001b[39m\u001b[38;5;124m\"\u001b[39m]\u001b[38;5;241m==\u001b[39m\u001b[38;5;124m\"\u001b[39m\u001b[38;5;124mTest\u001b[39m\u001b[38;5;124m\"\u001b[39m][\u001b[38;5;124m\"\u001b[39m\u001b[38;5;124mPredicted\u001b[39m\u001b[38;5;124m\"\u001b[39m]))\n\u001b[1;32m      6\u001b[0m \u001b[38;5;28mprint\u001b[39m(metrics_df)\n",
      "\u001b[0;31mNameError\u001b[0m: name 'results_df' is not defined"
     ]
    }
   ],
   "source": [
    "error_metrics_report(list(results_df[results_df[\"Set\"]==\"Train\"][\"Real\"]),\n",
    "                     list(results_df[results_df[\"Set\"]==\"Test\"][\"Real\"]),\n",
    "                     list(results_df[results_df[\"Set\"]==\"Train\"][\"Predicted\"]),\n",
    "                     list(results_df[results_df[\"Set\"]==\"Test\"][\"Predicted\"]))\n",
    "\n",
    "print(metrics_df)"
   ]
  },
  {
   "cell_type": "code",
   "execution_count": null,
   "id": "8a25643f",
   "metadata": {},
   "outputs": [],
   "source": []
  }
 ],
 "metadata": {
  "kernelspec": {
   "display_name": "Python 3 (ipykernel)",
   "language": "python",
   "name": "python3"
  },
  "language_info": {
   "codemirror_mode": {
    "name": "ipython",
    "version": 3
   },
   "file_extension": ".py",
   "mimetype": "text/x-python",
   "name": "python",
   "nbconvert_exporter": "python",
   "pygments_lexer": "ipython3",
   "version": "3.10.9"
  }
 },
 "nbformat": 4,
 "nbformat_minor": 5
}
